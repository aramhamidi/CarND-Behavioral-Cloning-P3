{
 "cells": [
  {
   "cell_type": "markdown",
   "metadata": {},
   "source": [
    "after copying and extracting the data on EC2 instance We want read the data for each line extratc the path to the camera image path\n",
    "but we need to update the path cause it's not on out local machin\n",
    "anymore, and it's on the AWS instance."
   ]
  },
  {
   "cell_type": "markdown",
   "metadata": {},
   "source": [
    "# easy way to update the path\n",
    "Split the path on it's slashes and then extract the final token\n",
    "which will be file name.\n",
    "then we can add that file name to the end of the image directory\n",
    "here on the AWS instance.\n",
    "Now that we have the current path we can use opencv to load the image\n",
    "and append it to the our list of images\n",
    "we can do the same thing for the steering measurements, which will serve \n",
    "as our output labels, but with this difference that there would be no path\n",
    "or no images to handle, just simply extract the 4th token from the csv line"
   ]
  },
  {
   "cell_type": "code",
   "execution_count": 1,
   "metadata": {},
   "outputs": [],
   "source": [
    "import cv2\n",
    "import csv\n",
    "import numpy as np\n",
    "import os\n",
    "import sklearn\n",
    "from sklearn.model_selection import train_test_split\n",
    "\n",
    "# The following two functions are \n",
    "def augment_brightness(image):\n",
    "    image1 = cv2.cvtColor(image,cv2.COLOR_RGB2HSV)\n",
    "    image1 = np.array(image1, dtype = np.float64)\n",
    "    random_bright = .25+np.random.uniform()\n",
    "    image1[:,:,2] = image1[:,:,2]*random_bright\n",
    "    image1[:,:,2][image1[:,:,2]>255]  = 255\n",
    "    image1 = np.array(image1, dtype = np.uint8)\n",
    "    image1 = cv2.cvtColor(image1,cv2.COLOR_HSV2RGB)\n",
    "    return image1\n",
    "\n",
    "def trans_image(image,steer,trans_range):\n",
    "    # Translation\n",
    "    tr_x = trans_range*np.random.uniform()-trans_range/2\n",
    "    steer_ang = steer + tr_x/trans_range*2*.2\n",
    "    tr_y = 40*np.random.uniform()-40/2\n",
    "    Trans_M = np.float32([[1,0,tr_x],[0,1,tr_y]])\n",
    "    image_tr = cv2.warpAffine(image,Trans_M,(320,160))    \n",
    "    return image_tr,steer_ang\n",
    "\n",
    "def random_shadow(image):\n",
    "    top_y = 320*np.random.uniform()\n",
    "    top_x = 0\n",
    "    bot_x = 160\n",
    "    bot_y = 320*np.random.uniform()\n",
    "    image_hls = cv2.cvtColor(image,cv2.COLOR_RGB2HLS)\n",
    "    shadow_mask = 0*image_hls[:,:,1]\n",
    "    X_m = np.mgrid[0:image.shape[0],0:image.shape[1]][0]\n",
    "    Y_m = np.mgrid[0:image.shape[0],0:image.shape[1]][1]\n",
    "    shadow_mask[((X_m-top_x)*(bot_y-top_y) -(bot_x - top_x)*(Y_m-top_y) >=0)]=1\n",
    "    \n",
    "    if np.random.randint(2)==1:\n",
    "        random_bright = .25\n",
    "        cond1 = shadow_mask==1\n",
    "        cond0 = shadow_mask==0\n",
    "        if np.random.randint(2)==1:\n",
    "            image_hls[:,:,1][cond1] = image_hls[:,:,1][cond1]*random_bright\n",
    "        else:\n",
    "            image_hls[:,:,1][cond0] = image_hls[:,:,1][cond0]*random_bright    \n",
    "    image = cv2.cvtColor(image_hls,cv2.COLOR_HLS2RGB)\n",
    "    return image\n"
   ]
  },
  {
   "cell_type": "code",
   "execution_count": 2,
   "metadata": {},
   "outputs": [
    {
     "name": "stdout",
     "output_type": "stream",
     "text": [
      "Data is loaded\n"
     ]
    }
   ],
   "source": [
    "\n",
    "samples = []\n",
    "with open ('data/driving_log.csv') as csvfile:\n",
    "    reader = csv.reader(csvfile)\n",
    "    for line in reader:\n",
    "        samples.append(line)\n",
    "\n",
    "del(samples[0])\n",
    "train_samples, validation_samples = train_test_split(samples, test_size=0.2)\n",
    "\n",
    "def generator(samples, batch_size=32):\n",
    "    num_samples = len(samples)\n",
    "\n",
    "    while 1:\n",
    "        \n",
    "        sklearn.utils.shuffle(samples)\n",
    "        for offset in range(0, num_samples, batch_size):\n",
    "            \n",
    "            batch_samples = samples[offset:offset+batch_size]\n",
    "            images = []\n",
    "            angles = []\n",
    "            for batch_sample in batch_samples:\n",
    "\n",
    "                name1 = 'data/IMG/' + batch_sample[0].split('/')[-1]\n",
    "                name2 = 'data/IMG/' + batch_sample[1].split('/')[-1]\n",
    "                name3 = 'data/IMG/' + batch_sample[2].split('/')[-1]\n",
    "\n",
    "                center_image = cv2.imread(name1)\n",
    "                center_image = cv2.cvtColor(center_image, cv2.COLOR_BGR2RGB)\n",
    "                center_image = augment_brightness(center_image)\n",
    "                center_angle = float(batch_sample[3])                \n",
    "                #center_image, center_angle = trans_image(center_image, center_angle, 40)\n",
    "                \n",
    "                left_image = cv2.imread(name2)\n",
    "                left_image = cv2.cvtColor(left_image, cv2.COLOR_BGR2RGB)\n",
    "                left_image = augment_brightness(left_image)\n",
    "                left_angle = center_angle + 0.25\n",
    "                #left_image, left_angle = trans_image(left_image, left_angle, 40)\n",
    "                \n",
    "                right_image = cv2.imread(name3)\n",
    "                right_image = cv2.cvtColor(right_image, cv2.COLOR_BGR2RGB)\n",
    "                right_image = augment_brightness(right_image)\n",
    "                right_angle = center_angle - 0.25\n",
    "                #right_image, right_angle = trans_image(right_image, right_angle, 40)\n",
    "\n",
    "                images.append(center_image)\n",
    "                images.append(left_image)\n",
    "                images.append(right_image)\n",
    "                \n",
    "                angles.append(center_angle)\n",
    "                angles.append(left_angle)\n",
    "                angles.append(right_angle)\n",
    "                \n",
    "                augmented_images, augmented_angles = [], []\n",
    "                for image, angle in zip(images, angles):\n",
    "                    augmented_images.append(image)\n",
    "                    augmented_angles.append(angle)\n",
    "                    augmented_images.append(cv2.flip(image,1))\n",
    "                    augmented_angles.append(angle * -1.0)\n",
    "           \n",
    "            X_train = np.array(augmented_images)\n",
    "            y_train = np.array(augmented_angles)\n",
    "            (X_train, y_train)= sklearn.utils.shuffle(X_train, y_train)\n",
    "            yield (X_train, y_train)\n",
    "\n",
    "train_generator = generator(train_samples, batch_size=32)\n",
    "validation_generator = generator(validation_samples, batch_size=32)\n",
    "        \n",
    "print(\"Data is loaded\")  "
   ]
  },
  {
   "cell_type": "markdown",
   "metadata": {},
   "source": [
    "# Building Basic Model\n",
    "Now we are going to build the most basic NW possible\n",
    "Just to verify that everthing is working fine.\n",
    "This NW is going to be a flattened image connected to a\n",
    "single output node. This single output node is going to predict \n",
    "the steering angle, which makes this a regression network.\n",
    "\n",
    "For a Classification Netwrok we might need to apply a softmax activation function to the output layer. But for a regression network like this we just need a single output node to directly predict the steering angle for us."
   ]
  },
  {
   "cell_type": "markdown",
   "metadata": {},
   "source": [
    "By default Keras trains for 10 epochs. But we can see the validation loss decreases for the first 7 epochs and then it starts to climbing again.\n",
    "This is a sign that maybe we are over fitting the data. The validation loss should decrease for almost all the epochs."
   ]
  },
  {
   "cell_type": "code",
   "execution_count": 3,
   "metadata": {
    "scrolled": false
   },
   "outputs": [
    {
     "name": "stderr",
     "output_type": "stream",
     "text": [
      "Using TensorFlow backend.\n"
     ]
    },
    {
     "name": "stdout",
     "output_type": "stream",
     "text": [
      "Epoch 1/5\n",
      "6336/6428 [============================>.] - ETA: 0s - loss: 0.0894"
     ]
    },
    {
     "name": "stderr",
     "output_type": "stream",
     "text": [
      "/home/carnd/anaconda3/envs/carnd-term1/lib/python3.5/site-packages/keras/engine/training.py:1569: UserWarning: Epoch comprised more than `samples_per_epoch` samples, which might affect learning results. Set `samples_per_epoch` correctly to avoid this warning.\n",
      "  warnings.warn('Epoch comprised more than '\n"
     ]
    },
    {
     "name": "stdout",
     "output_type": "stream",
     "text": [
      "6528/6428 [==============================] - 18s - loss: 0.0879 - val_loss: 0.0406\n",
      "Epoch 2/5\n",
      "6528/6428 [==============================] - 15s - loss: 0.0385 - val_loss: 0.0275\n",
      "Epoch 3/5\n",
      "6528/6428 [==============================] - 14s - loss: 0.0252 - val_loss: 0.0196\n",
      "Epoch 4/5\n",
      "6528/6428 [==============================] - 15s - loss: 0.0220 - val_loss: 0.0184\n",
      "Epoch 5/5\n",
      "6528/6428 [==============================] - 14s - loss: 0.0227 - val_loss: 0.0225\n",
      "dict_keys(['loss', 'val_loss'])\n"
     ]
    },
    {
     "data": {
      "image/png": "[encoded data removed]",
      "text/plain": [
       "<matplotlib.figure.Figure at 0x7fbb7a3ac358>"
      ]
     },
     "metadata": {},
     "output_type": "display_data"
    },
    {
     "name": "stdout",
     "output_type": "stream",
     "text": [
      "model saved!\n"
     ]
    }
   ],
   "source": [
    "\n",
    "from keras.models import Sequential\n",
    "from keras.layers import Flatten, Dense, Lambda, Dropout\n",
    "from keras.layers import Convolution2D\n",
    "from keras.layers.pooling import MaxPooling2D\n",
    "from keras.layers import Cropping2D\n",
    "from keras.models import Model\n",
    "import matplotlib.pyplot as plt\n",
    "from keras.layers.pooling import AveragePooling2D\n",
    "\n",
    "ch, row, col = 3, 80, 320 # trimmed image format\n",
    "\n",
    "\n",
    "model = Sequential()\n",
    "model.add(Lambda(lambda x: x / 255.0 - 0.5, input_shape=(160,320,3),output_shape=(160,320,3)))\n",
    "model.add(AveragePooling2D(pool_size=(2, 2), strides=(2,2)))\n",
    "model.add(Convolution2D(24,5,5, subsample=(2,2), activation=\"elu\"))\n",
    "model.add(Dropout(0.3))\n",
    "model.add(Convolution2D(36,5,5, subsample=(2,2), activation=\"elu\"))\n",
    "#model.add(Dropout(0.5))\n",
    "model.add(Convolution2D(48,5,5, subsample=(2,2), activation=\"elu\"))\n",
    "model.add(Dropout(0.3))\n",
    "model.add(Convolution2D(64,3,3, activation=\"elu\"))\n",
    "model.add(Dropout(0.3))\n",
    "model.add(Convolution2D(64,3,3, activation=\"elu\"))\n",
    "#model.add(Dropout(0.4))\n",
    "model.add(Flatten())\n",
    "model.add(Dense(100))\n",
    "model.add(Dense(50))\n",
    "model.add(Dense(10))\n",
    "model.add(Dense(1))\n",
    "# model.summary()\n",
    "# For the loss function we use mean square , or MSE, which is differnt\n",
    "# than cross_entropy function, again becuase this is a regression network \n",
    "# not a classifer network.\n",
    "\n",
    "# We want to minimize the error between the stearing measurementss that the \n",
    "# Network predicts and the ground truth steering measurement.\n",
    "# MSE is good loss function for this.\n",
    "\n",
    "model.compile(loss='mse', optimizer='adam')\n",
    "\n",
    "# Once the model is compiled we'll train the feature and label arrays\n",
    "# we just build.\n",
    "# WE also shuffle the data and also split off 20% of the data to use \n",
    "# for validation set.\n",
    "\n",
    "history_object = model.fit_generator(train_generator, samples_per_epoch =\n",
    "    len(train_samples), validation_data = \n",
    "    validation_generator,\n",
    "    nb_val_samples = len(validation_samples), \n",
    "    nb_epoch=5, verbose=1)\n",
    "\n",
    "### print the keys contained in the history object\n",
    "print(history_object.history.keys())\n",
    "\n",
    "### plot the training and validation loss for each epoch\n",
    "plt.plot(history_object.history['loss'])\n",
    "plt.plot(history_object.history['val_loss'])\n",
    "plt.title('model mean squared error loss')\n",
    "plt.ylabel('mean squared error loss')\n",
    "plt.xlabel('epoch')\n",
    "plt.legend(['training set', 'validation set'], loc='upper right')\n",
    "plt.show()\n",
    "# Now we will save the model and download it onto our local machine,\n",
    "# and see if it works for driving the simulator.\n",
    "\n",
    "model.save('model.h5')\n",
    "print(\"model saved!\")\n",
    "exit()"
   ]
  },
  {
   "cell_type": "markdown",
   "metadata": {},
   "source": [
    "\n",
    "Next step is to download this model toour local machine.\n",
    "\n",
    " \n",
    "# How do you know when you have collected enough data? \n",
    "Machine learning involves trying out ideas and testing them to see if they work. If the model is over or underfitting, then try to figure out why and adjust accordingly.\n",
    "​\n",
    "Since this model outputs a single continuous numeric value, one appropriate error metric would be mean squared error. \n",
    "1. If the mean squared error is high on both a training and validation set, the model is underfitting. \n",
    "2. If the mean squared error is low on a training set but high on a validation set, the model is overfitting. Collecting more data can help improve a model when the model is overfitting.\n",
    "3. What if the model has a low mean squared error on both the training and validation sets, but the car is falling off the track? Try to figure out the cases where the vehicle is falling off the track. Does it occur only on turns? Then maybe it's important to collect more turning data. The vehicle's driving behavior is only as good as the behavior of the driver who provided the data.\n",
    "In [ ]:\n",
    "\n",
    "​\n"
   ]
  },
  {
   "cell_type": "markdown",
   "metadata": {
    "collapsed": true
   },
   "source": [
    "# Insights:\n",
    "As you can imagine, if you record the training data driving through the center of the track, then most of your recorded steering angles will be close to zero. This data will have bias for driving straight. Since the training track has more left turns than right, it also had a slight bias for turing left."
   ]
  },
  {
   "cell_type": "markdown",
   "metadata": {
    "collapsed": true
   },
   "source": [
    "To solve this problem I tried to record more data when I was purposly drive off road and record the recovery, but it was very difficult! Beside that, dealing with uploading and removing a big chunk of data on AWS wsa extremely time consuming and I didn't find a faster way of doing it.(some help from Udacity for future students would be great - A feedback right there:D)\n",
    "So I gave up on that and went back to the data set provided by Udacity. I added a Color to YUV filter to the preprocessing steps in my generator, but didn't get much improvement. Still the car was driving off road at some point. \n"
   ]
  },
  {
   "cell_type": "markdown",
   "metadata": {},
   "source": [
    "## How did visualization of loss helped me?\n",
    "In an amazing post from one the forum's mentor (subodh malgonde) I learned that general rule of thumb is:\n",
    "\n",
    "1. If your training loss is low and validation loss is higher and they have converged at 2 largely different values then your model is overfitting the training data. Things that can cure overfitting are getting more training data, increasing regularization/dropout or trying out a simpler/smaller network. If the validation loss has not converged and is reducing with each epoch then trying out more epochs may help you.\n",
    "\n",
    "2. If your training loss and validation loss are very close, but both a are high then your model is underfitting. Things that can cure underfitting are increasing the complexity of your network or reducing regularization/dropout. Getting more data or increasing the epochs won't help you in this case.\n",
    "\n",
    "Using this rules, I realized I was using too many dropouts"
   ]
  },
  {
   "cell_type": "code",
   "execution_count": null,
   "metadata": {
    "collapsed": true
   },
   "outputs": [],
   "source": []
  }
 ],
 "metadata": {
  "anaconda-cloud": {},
  "kernelspec": {
   "display_name": "Python 3",
   "language": "python",
   "name": "python3"
  },
  "language_info": {
   "codemirror_mode": {
    "name": "ipython",
    "version": 3
   },
   "file_extension": ".py",
   "mimetype": "text/x-python",
   "name": "python",
   "nbconvert_exporter": "python",
   "pygments_lexer": "ipython3",
   "version": "3.5.2"
  },
  "widgets": {
   "state": {},
   "version": "1.1.2"
  }
 },
 "nbformat": 4,
 "nbformat_minor": 2
}
